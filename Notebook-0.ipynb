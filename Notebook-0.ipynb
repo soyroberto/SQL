{
    "metadata": {
        "kernelspec": {
            "name": "SQL",
            "display_name": "SQL",
            "language": "sql"
        },
        "language_info": {
            "name": "sql",
            "version": ""
        }
    },
    "nbformat_minor": 2,
    "nbformat": 4,
    "cells": [
        {
            "cell_type": "code",
            "source": [
                "SELECT TOP (2000) [fecha]\n",
                "      ,[mes]\n",
                "      ,[anio]\n",
                "      ,[linea]\n",
                "      ,[estacion]\n",
                "      ,[tipo_pago]\n",
                "      ,[afluencia]\n",
                "      ,[temporal_fecha]\n",
                "      ,[anio_fecha]\n",
                "  FROM [dbo].[MetroMEXdata-2025-04-30]"
            ],
            "metadata": {
                "azdata_cell_guid": "47378225-55f7-4e7e-96ba-ff89504ef05a",
                "language": "sql"
            },
            "outputs": [],
            "execution_count": null
        }
    ]
}